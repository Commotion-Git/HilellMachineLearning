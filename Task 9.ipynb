{
 "cells": [
  {
   "cell_type": "code",
   "execution_count": null,
   "id": "d8b53b35",
   "metadata": {},
   "outputs": [],
   "source": [
    "import pandas as pd\n",
    "import numpy as np\n",
    "from sklearn.model_selection import train_test_split, GridSearchCV\n",
    "from sklearn.preprocessing import StandardScaler\n",
    "from sklearn.ensemble import RandomForestClassifier, StackingClassifier\n",
    "from sklearn.metrics import accuracy_score\n",
    "from xgboost import XGBClassifier\n",
    "from sklearn.linear_model import LogisticRegression"
   ]
  },
  {
   "cell_type": "code",
   "execution_count": null,
   "id": "63a7d9a4",
   "metadata": {},
   "outputs": [],
   "source": [
    "# 1. Загрузка данных\n",
    "df = pd.read_csv(\"data.csv\")"
   ]
  },
  {
   "cell_type": "markdown",
   "id": "054287ec",
   "metadata": {},
   "source": [
    "2. Первичный анализ данных"
   ]
  },
  {
   "cell_type": "code",
   "execution_count": null,
   "id": "473927de",
   "metadata": {},
   "outputs": [],
   "source": [
    "# Проверка первых строк датасета\n",
    "print(\"Первые строки датасета:\")\n",
    "print(df.head())"
   ]
  },
  {
   "cell_type": "code",
   "execution_count": null,
   "id": "30502bc4",
   "metadata": {},
   "outputs": [],
   "source": [
    "# Проверка названий столбцов\n",
    "print(\"\\nНазвания столбцов:\")\n",
    "print(df.columns)"
   ]
  },
  {
   "cell_type": "code",
   "execution_count": null,
   "id": "245e4ec9",
   "metadata": {},
   "outputs": [],
   "source": [
    "# Общая информация о датасете\n",
    "print(\"\\nОбщая информация о датасете:\")\n",
    "print(df.info())"
   ]
  },
  {
   "cell_type": "code",
   "execution_count": null,
   "id": "ba7e886e",
   "metadata": {},
   "outputs": [],
   "source": [
    "# Проверка на пропущенные значения\n",
    "print(\"\\nПропущенные значения в датасете:\")\n",
    "print(df.isnull().sum())"
   ]
  },
  {
   "cell_type": "code",
   "execution_count": null,
   "id": "f7a02db4",
   "metadata": {},
   "outputs": [],
   "source": [
    "# Описание числовых столбцов\n",
    "print(\"\\nОписание числовых данных:\")\n",
    "print(df.describe())"
   ]
  },
  {
   "cell_type": "code",
   "execution_count": null,
   "id": "df0f53f4",
   "metadata": {},
   "outputs": [],
   "source": [
    "# Проверка типов данных для понимания структуры датасета\n",
    "print(\"\\nТипы данных:\")\n",
    "print(df.dtypes)"
   ]
  },
  {
   "cell_type": "markdown",
   "id": "98e47dec",
   "metadata": {},
   "source": [
    "3. Фича инжиниринг"
   ]
  },
  {
   "cell_type": "code",
   "execution_count": null,
   "id": "110cf27c",
   "metadata": {},
   "outputs": [],
   "source": [
    "# Добавление новой фичи на основе существующих\n",
    "df['capacity_interaction'] = df['process.b1.capacity'] * df['process.b2.capacity']"
   ]
  },
  {
   "cell_type": "code",
   "execution_count": null,
   "id": "61c37cb6",
   "metadata": {},
   "outputs": [],
   "source": [
    "threshold = df['property.price'].mean()\n",
    "df['high_price'] = (df['property.price'] > threshold).astype(int)"
   ]
  },
  {
   "cell_type": "code",
   "execution_count": null,
   "id": "c858280a",
   "metadata": {},
   "outputs": [],
   "source": [
    "print(\"\\nПервые строки после добавления новых фич:\")\n",
    "print(df.head())"
   ]
  },
  {
   "cell_type": "markdown",
   "id": "6e6272d0",
   "metadata": {},
   "source": [
    "4. Масштабирование числовых фич"
   ]
  },
  {
   "cell_type": "code",
   "execution_count": null,
   "id": "2f69798d",
   "metadata": {},
   "outputs": [],
   "source": [
    "scaler = StandardScaler()\n",
    "numerical_features = ['process.b1.capacity', 'process.b2.capacity', 'process.b3.capacity', 'process.b4.capacity',\n",
    "                      'property.price', 'verification.time', 'capacity_interaction']\n",
    "df[numerical_features] = scaler.fit_transform(df[numerical_features])"
   ]
  },
  {
   "cell_type": "code",
   "execution_count": null,
   "id": "0fbce128",
   "metadata": {},
   "outputs": [],
   "source": [
    "print(\"\\nПервые строки после масштабирования:\")\n",
    "print(df.head())"
   ]
  },
  {
   "cell_type": "markdown",
   "id": "37d26e5e",
   "metadata": {},
   "source": [
    "5. Разделение датасета на части"
   ]
  },
  {
   "cell_type": "code",
   "execution_count": null,
   "id": "577b1c1f",
   "metadata": {},
   "outputs": [],
   "source": [
    "X = df.drop('verification.result', axis=1)  # verification.result - цільова змінна\n",
    "y = df['verification.result']"
   ]
  },
  {
   "cell_type": "code",
   "execution_count": null,
   "id": "b3606f19",
   "metadata": {},
   "outputs": [],
   "source": [
    "X_train, X_temp, y_train, y_temp = train_test_split(X, y, test_size=0.4, random_state=42)\n",
    "X_val, X_test, y_val, y_test = train_test_split(X_temp, y_temp, test_size=0.5, random_state=42)"
   ]
  },
  {
   "cell_type": "code",
   "execution_count": null,
   "id": "20ef935f",
   "metadata": {},
   "outputs": [],
   "source": [
    "print(f\"\\nРазмеры выборок - Train: {len(X_train)}, Validation: {len(X_val)}, Test: {len(X_test)}\")"
   ]
  },
  {
   "cell_type": "code",
   "execution_count": null,
   "id": "f5761345",
   "metadata": {},
   "outputs": [],
   "source": []
  },
  {
   "cell_type": "code",
   "execution_count": null,
   "id": "1587ac9c",
   "metadata": {},
   "outputs": [],
   "source": [
    "rf = RandomForestClassifier(random_state=42)\n",
    "rf.fit(X_train, y_train)"
   ]
  },
  {
   "cell_type": "code",
   "execution_count": null,
   "id": "d1539d0a",
   "metadata": {},
   "outputs": [],
   "source": [
    "y_val_pred_rf = rf.predict(X_val)\n",
    "print(f\"\\nValidation Accuracy (RandomForest): {accuracy_score(y_val, y_val_pred_rf)}\")"
   ]
  },
  {
   "cell_type": "code",
   "execution_count": null,
   "id": "1d3e6e03",
   "metadata": {},
   "outputs": [],
   "source": [
    "xgb = XGBClassifier(random_state=42)\n",
    "xgb.fit(X_train, y_train)"
   ]
  },
  {
   "cell_type": "code",
   "execution_count": null,
   "id": "a7b16b44",
   "metadata": {},
   "outputs": [],
   "source": [
    "y_val_pred_xgb = xgb.predict(X_val)\n",
    "print(f\"Validation Accuracy (XGBoost): {accuracy_score(y_val, y_val_pred_xgb)}\")"
   ]
  },
  {
   "cell_type": "code",
   "execution_count": null,
   "id": "2865cf1b",
   "metadata": {},
   "outputs": [],
   "source": [
    "estimators = [('rf', RandomForestClassifier(random_state=42)), ('xgb', XGBClassifier(random_state=42))]\n",
    "stacking = StackingClassifier(estimators=estimators, final_estimator=LogisticRegression())\n",
    "stacking.fit(X_train, y_train)"
   ]
  },
  {
   "cell_type": "code",
   "execution_count": null,
   "id": "23c0c7c9",
   "metadata": {},
   "outputs": [],
   "source": [
    "y_val_pred_stack = stacking.predict(X_val)\n",
    "print(f\"Validation Accuracy (Stacking): {accuracy_score(y_val, y_val_pred_stack)}\")"
   ]
  },
  {
   "cell_type": "code",
   "execution_count": null,
   "id": "573aa776",
   "metadata": {},
   "outputs": [],
   "source": []
  },
  {
   "cell_type": "code",
   "execution_count": null,
   "id": "be19701d",
   "metadata": {},
   "outputs": [],
   "source": [
    "param_grid_rf = {\n",
    "    'n_estimators': [100, 200],\n",
    "    'max_depth': [None, 10, 20],\n",
    "    'min_samples_split': [2, 5]\n",
    "}"
   ]
  },
  {
   "cell_type": "code",
   "execution_count": null,
   "id": "998d8552",
   "metadata": {},
   "outputs": [],
   "source": [
    "# GridSearchCV для RandomForest\n",
    "grid_rf = GridSearchCV(RandomForestClassifier(random_state=42), param_grid_rf, cv=3, n_jobs=-1, verbose=2)\n",
    "grid_rf.fit(X_train, y_train)"
   ]
  },
  {
   "cell_type": "code",
   "execution_count": null,
   "id": "d295b274",
   "metadata": {
    "lines_to_next_cell": 2
   },
   "outputs": [],
   "source": [
    "print(f\"\\nBest params for RandomForest: {grid_rf.best_params_}\")"
   ]
  },
  {
   "cell_type": "code",
   "execution_count": null,
   "id": "fa10ce7c",
   "metadata": {},
   "outputs": [],
   "source": [
    "best_model = grid_rf.best_estimator()\n",
    "y_test_pred = best_model.predict(X_test)\n",
    "print(f\"\\nTest Accuracy (Best RandomForest Model): {accuracy_score(y_test, y_test_pred)}\")"
   ]
  },
  {
   "cell_type": "code",
   "execution_count": null,
   "id": "953daaac",
   "metadata": {},
   "outputs": [],
   "source": []
  },
  {
   "cell_type": "code",
   "execution_count": null,
   "id": "7a69bac1",
   "metadata": {},
   "outputs": [],
   "source": []
  }
 ],
 "metadata": {
  "jupytext": {
   "cell_metadata_filter": "-all",
   "main_language": "python",
   "notebook_metadata_filter": "-all"
  }
 },
 "nbformat": 4,
 "nbformat_minor": 5
}
