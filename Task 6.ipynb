{
 "cells": [
  {
   "cell_type": "code",
   "execution_count": null,
   "id": "cf098e18",
   "metadata": {},
   "outputs": [],
   "source": [
    "import pandas as pd\n",
    "from sklearn.model_selection import train_test_split\n",
    "from sklearn.linear_model import LinearRegression\n",
    "from sklearn.metrics import mean_squared_error, r2_score\n",
    "from sklearn.preprocessing import LabelEncoder\n",
    "from sklearn.ensemble import RandomForestClassifier\n",
    "from sklearn.metrics import classification_report, accuracy_score"
   ]
  },
  {
   "cell_type": "code",
   "execution_count": null,
   "id": "8fa1869f",
   "metadata": {},
   "outputs": [],
   "source": [
    "url = \"https://archive.ics.uci.edu/ml/machine-learning-databases/abalone/abalone.data\"\n",
    "column_names = ['Sex', 'Length', 'Diameter', 'Height', 'Whole_weight', 'Shucked_weight', 'Viscera_weight', 'Shell_weight', 'Rings']\n",
    "abalone_data = pd.read_csv(url, header=None, names=column_names)"
   ]
  },
  {
   "cell_type": "code",
   "execution_count": null,
   "id": "3d4e0bac",
   "metadata": {},
   "outputs": [],
   "source": [
    "print(abalone_data.head())"
   ]
  },
  {
   "cell_type": "code",
   "execution_count": null,
   "id": "4cdcd75a",
   "metadata": {},
   "outputs": [],
   "source": [
    "print(abalone_data.isnull().sum())"
   ]
  },
  {
   "cell_type": "code",
   "execution_count": null,
   "id": "8d4a38cb",
   "metadata": {},
   "outputs": [],
   "source": [
    "abalone_data['Sex'] = abalone_data['Sex'].map({'M': 0, 'F': 1, 'I': 2})"
   ]
  },
  {
   "cell_type": "code",
   "execution_count": null,
   "id": "4246debf",
   "metadata": {},
   "outputs": [],
   "source": [
    "X = abalone_data.drop(['Rings'], axis=1)\n",
    "y = abalone_data['Rings']"
   ]
  },
  {
   "cell_type": "code",
   "execution_count": null,
   "id": "2bbf03fc",
   "metadata": {},
   "outputs": [],
   "source": [
    "X_train, X_test, y_train, y_test = train_test_split(X, y, test_size=0.2, random_state=42)"
   ]
  },
  {
   "cell_type": "code",
   "execution_count": null,
   "id": "94012bf2",
   "metadata": {},
   "outputs": [],
   "source": [
    "regressor = LinearRegression()\n",
    "regressor.fit(X_train, y_train)"
   ]
  },
  {
   "cell_type": "code",
   "execution_count": null,
   "id": "2084368a",
   "metadata": {},
   "outputs": [],
   "source": [
    "y_pred = regressor.predict(X_test)"
   ]
  },
  {
   "cell_type": "code",
   "execution_count": null,
   "id": "e8430dbc",
   "metadata": {},
   "outputs": [],
   "source": [
    "print(f\"Mean Squared Error: {mean_squared_error(y_test, y_pred)}\")\n",
    "print(f\"R^2 Score: {r2_score(y_test, y_pred)}\")"
   ]
  },
  {
   "cell_type": "code",
   "execution_count": null,
   "id": "7815a94b",
   "metadata": {},
   "outputs": [],
   "source": [
    "X_clf = abalone_data.drop(['Sex'], axis=1)\n",
    "y_clf = abalone_data['Sex']"
   ]
  },
  {
   "cell_type": "code",
   "execution_count": null,
   "id": "9ee4132f",
   "metadata": {},
   "outputs": [],
   "source": [
    "X_train_clf, X_test_clf, y_train_clf, y_test_clf = train_test_split(X_clf, y_clf, test_size=0.2, random_state=42)"
   ]
  },
  {
   "cell_type": "code",
   "execution_count": null,
   "id": "19b39f6a",
   "metadata": {},
   "outputs": [],
   "source": [
    "classifier = RandomForestClassifier(random_state=42)\n",
    "classifier.fit(X_train_clf, y_train_clf)"
   ]
  },
  {
   "cell_type": "code",
   "execution_count": null,
   "id": "71691b08",
   "metadata": {},
   "outputs": [],
   "source": [
    "y_pred_clf = classifier.predict(X_test_clf)"
   ]
  },
  {
   "cell_type": "code",
   "execution_count": null,
   "id": "f7cb8b5c",
   "metadata": {},
   "outputs": [],
   "source": [
    "print(f\"Accuracy Score: {accuracy_score(y_test_clf, y_pred_clf)}\")\n",
    "print(classification_report(y_test_clf, y_pred_clf))"
   ]
  },
  {
   "cell_type": "code",
   "execution_count": null,
   "id": "f2c839c9",
   "metadata": {
    "lines_to_next_cell": 2
   },
   "outputs": [],
   "source": []
  }
 ],
 "metadata": {
  "jupytext": {
   "cell_metadata_filter": "-all",
   "main_language": "python",
   "notebook_metadata_filter": "-all"
  }
 },
 "nbformat": 4,
 "nbformat_minor": 5
}
