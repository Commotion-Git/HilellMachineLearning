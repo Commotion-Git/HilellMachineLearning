{
 "cells": [
  {
   "cell_type": "code",
   "execution_count": null,
   "id": "75f55741",
   "metadata": {},
   "outputs": [],
   "source": [
    "import pandas as pd\n",
    "import spacy\n",
    "from sklearn.model_selection import train_test_split\n",
    "from sklearn.naive_bayes import MultinomialNB\n",
    "from sklearn.metrics import accuracy_score, classification_report\n",
    "from sklearn.feature_extraction.text import TfidfVectorizer"
   ]
  },
  {
   "cell_type": "code",
   "execution_count": null,
   "id": "4e4f8624",
   "metadata": {},
   "outputs": [],
   "source": [
    "# Загрузка модели spaCy\n",
    "nlp = spacy.load('en_core_web_sm')"
   ]
  },
  {
   "cell_type": "code",
   "execution_count": null,
   "id": "aeaef425",
   "metadata": {},
   "outputs": [],
   "source": [
    "# Шаг 1: Загрузка и предобработка данных\n",
    "df = pd.read_csv('IMDB Dataset.csv')\n",
    "df['sentiment'] = df['sentiment'].map({'positive': 1, 'negative': 0})"
   ]
  },
  {
   "cell_type": "code",
   "execution_count": null,
   "id": "d0287044",
   "metadata": {},
   "outputs": [],
   "source": [
    "# Признаки и целевые переменные\n",
    "X = df['review']\n",
    "y = df['sentiment']"
   ]
  },
  {
   "cell_type": "code",
   "execution_count": null,
   "id": "b9bb299c",
   "metadata": {
    "lines_to_next_cell": 1
   },
   "outputs": [],
   "source": [
    "# Разделение данных на тренировочные и тестовые наборы\n",
    "X_train, X_test, y_train, y_test = train_test_split(X, y, test_size=0.3, random_state=42)"
   ]
  },
  {
   "cell_type": "code",
   "execution_count": null,
   "id": "6337f050",
   "metadata": {
    "lines_to_next_cell": 1
   },
   "outputs": [],
   "source": [
    "# Шаг 2: Создание векторных представлений текста с помощью spaCy\n",
    "def spacy_vectorizer(texts):\n",
    "    vectors = []\n",
    "    for doc in nlp.pipe(texts, disable=[\"parser\", \"ner\"]):\n",
    "        vectors.append(doc.vector)\n",
    "    return vectors"
   ]
  },
  {
   "cell_type": "code",
   "execution_count": null,
   "id": "4e79e8aa",
   "metadata": {
    "lines_to_next_cell": 1
   },
   "outputs": [],
   "source": [
    "# Преобразование текста в векторы spaCy\n",
    "X_train_spacy = spacy_vectorizer(X_train)\n",
    "X_test_spacy = spacy_vectorizer(X_test)"
   ]
  },
  {
   "cell_type": "code",
   "execution_count": null,
   "id": "b8d7b5f0",
   "metadata": {
    "lines_to_next_cell": 1
   },
   "outputs": [],
   "source": [
    "# Преобразование векторов spaCy в формат, подходящий для TF-IDF\n",
    "# Для использования TF-IDF требуется строковое представление\n",
    "def vectors_to_text(vectors):\n",
    "    return [\" \".join(map(str, vec)) for vec in vectors]"
   ]
  },
  {
   "cell_type": "code",
   "execution_count": null,
   "id": "d8ab4426",
   "metadata": {},
   "outputs": [],
   "source": [
    "X_train_text = vectors_to_text(X_train_spacy)\n",
    "X_test_text = vectors_to_text(X_test_spacy)"
   ]
  },
  {
   "cell_type": "code",
   "execution_count": null,
   "id": "bc4af029",
   "metadata": {},
   "outputs": [],
   "source": [
    "# Преобразование векторов в матрицу TF-IDF\n",
    "tfidf_vectorizer = TfidfVectorizer()\n",
    "X_train_tfidf = tfidf_vectorizer.fit_transform(X_train_text)\n",
    "X_test_tfidf = tfidf_vectorizer.transform(X_test_text)"
   ]
  },
  {
   "cell_type": "code",
   "execution_count": null,
   "id": "b1e15865",
   "metadata": {},
   "outputs": [],
   "source": [
    "# Шаг 3: Обучение и оценка модели\n",
    "model = MultinomialNB()\n",
    "model.fit(X_train_tfidf, y_train)"
   ]
  },
  {
   "cell_type": "code",
   "execution_count": null,
   "id": "aa8b4c38",
   "metadata": {
    "lines_to_next_cell": 2
   },
   "outputs": [],
   "source": [
    "# Оценка модели\n",
    "y_pred = model.predict(X_test_tfidf)\n",
    "print(\"Model Accuracy:\", accuracy_score(y_test, y_pred))\n",
    "print(\"Model Classification Report:\\n\", classification_report(y_test, y_pred))"
   ]
  }
 ],
 "metadata": {
  "jupytext": {
   "cell_metadata_filter": "-all",
   "main_language": "python",
   "notebook_metadata_filter": "-all"
  }
 },
 "nbformat": 4,
 "nbformat_minor": 5
}
