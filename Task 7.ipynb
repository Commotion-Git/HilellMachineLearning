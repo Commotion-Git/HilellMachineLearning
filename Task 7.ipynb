{
 "cells": [
  {
   "cell_type": "code",
   "execution_count": null,
   "id": "51829398",
   "metadata": {},
   "outputs": [],
   "source": [
    "import pandas as pd\n",
    "from sklearn.preprocessing import LabelEncoder, OneHotEncoder, OrdinalEncoder\n",
    "from category_encoders.binary import BinaryEncoder"
   ]
  },
  {
   "cell_type": "code",
   "execution_count": null,
   "id": "1a3c3b92",
   "metadata": {},
   "outputs": [],
   "source": [
    "url = \"https://archive.ics.uci.edu/ml/machine-learning-databases/abalone/abalone.data\"\n",
    "column_names = ['Sex', 'Length', 'Diameter', 'Height', 'Whole_weight', 'Shucked_weight', 'Viscera_weight', 'Shell_weight', 'Rings']\n",
    "abalone_data = pd.read_csv(url, header=None, names=column_names)"
   ]
  },
  {
   "cell_type": "code",
   "execution_count": null,
   "id": "c380488b",
   "metadata": {},
   "outputs": [],
   "source": [
    "print(\"Original Data:\")\n",
    "print(abalone_data.head())"
   ]
  },
  {
   "cell_type": "code",
   "execution_count": null,
   "id": "40ab54ba",
   "metadata": {},
   "outputs": [],
   "source": [
    "# 1\n",
    "label_encoder = LabelEncoder()\n",
    "abalone_data['Sex_Label'] = label_encoder.fit_transform(abalone_data['Sex'])"
   ]
  },
  {
   "cell_type": "code",
   "execution_count": null,
   "id": "4f29da2d",
   "metadata": {},
   "outputs": [],
   "source": [
    "# 2\n",
    "one_hot_encoder = pd.get_dummies(abalone_data['Sex'], prefix='Sex')"
   ]
  },
  {
   "cell_type": "code",
   "execution_count": null,
   "id": "cc028ec9",
   "metadata": {},
   "outputs": [],
   "source": [
    "# 3\n",
    "ordinal_encoder = OrdinalEncoder(categories=[['M', 'F', 'I']])\n",
    "abalone_data['Sex_Ordinal'] = ordinal_encoder.fit_transform(abalone_data[['Sex']])"
   ]
  },
  {
   "cell_type": "code",
   "execution_count": null,
   "id": "41d6346a",
   "metadata": {},
   "outputs": [],
   "source": [
    "# 4\n",
    "binary_encoder = BinaryEncoder(cols=['Sex'])\n",
    "abalone_data_binary_encoded = binary_encoder.fit_transform(abalone_data[['Sex']])"
   ]
  },
  {
   "cell_type": "code",
   "execution_count": null,
   "id": "309e46d7",
   "metadata": {},
   "outputs": [],
   "source": [
    "print(\"\\nLabel Encoding:\")\n",
    "print(abalone_data[['Sex', 'Sex_Label']].head())"
   ]
  },
  {
   "cell_type": "code",
   "execution_count": null,
   "id": "b3708508",
   "metadata": {},
   "outputs": [],
   "source": [
    "print(\"\\nOne-Hot Encoding:\")\n",
    "print(one_hot_encoder.head())"
   ]
  },
  {
   "cell_type": "code",
   "execution_count": null,
   "id": "1712cbb7",
   "metadata": {},
   "outputs": [],
   "source": [
    "print(\"\\nOrdinal Encoding:\")\n",
    "print(abalone_data[['Sex', 'Sex_Ordinal']].head())"
   ]
  },
  {
   "cell_type": "code",
   "execution_count": null,
   "id": "22f47a60",
   "metadata": {
    "lines_to_next_cell": 2
   },
   "outputs": [],
   "source": [
    "print(\"\\nBinary Encoding:\")\n",
    "print(abalone_data_binary_encoded.head())"
   ]
  }
 ],
 "metadata": {
  "jupytext": {
   "cell_metadata_filter": "-all",
   "main_language": "python",
   "notebook_metadata_filter": "-all"
  }
 },
 "nbformat": 4,
 "nbformat_minor": 5
}
