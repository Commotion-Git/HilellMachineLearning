{
 "cells": [
  {
   "cell_type": "code",
   "execution_count": null,
   "id": "9263ecf9",
   "metadata": {},
   "outputs": [],
   "source": [
    "import tensorflow as tf\n",
    "from sklearn.datasets import make_moons\n",
    "from sklearn.model_selection import train_test_split\n",
    "from sklearn.preprocessing import StandardScaler\n",
    "from sklearn.metrics import accuracy_score"
   ]
  },
  {
   "cell_type": "code",
   "execution_count": null,
   "id": "04da14c0",
   "metadata": {},
   "outputs": [],
   "source": [
    "# Генерация\n",
    "X, y = make_moons(n_samples=1000, noise=0.1, random_state=42)"
   ]
  },
  {
   "cell_type": "code",
   "execution_count": null,
   "id": "c42d953b",
   "metadata": {},
   "outputs": [],
   "source": [
    "# Стандартизация\n",
    "scaler = StandardScaler()\n",
    "X = scaler.fit_transform(X)"
   ]
  },
  {
   "cell_type": "code",
   "execution_count": null,
   "id": "90d15982",
   "metadata": {},
   "outputs": [],
   "source": [
    "# Деление на обучающую и тестовую выборки\n",
    "X_train, X_test, y_train, y_test = train_test_split(X, y, test_size=0.2, random_state=42)"
   ]
  },
  {
   "cell_type": "code",
   "execution_count": null,
   "id": "deed6bef",
   "metadata": {},
   "outputs": [],
   "source": [
    "# Модель\n",
    "model = tf.keras.Sequential([\n",
    "    tf.keras.layers.Dense(50, activation='relu', input_shape=(X_train.shape[1],)),\n",
    "    tf.keras.layers.Dense(50, activation='relu'),\n",
    "    tf.keras.layers.Dense(2, activation='softmax')\n",
    "])"
   ]
  },
  {
   "cell_type": "code",
   "execution_count": null,
   "id": "62497e05",
   "metadata": {},
   "outputs": [],
   "source": [
    "# Компиляция\n",
    "model.compile(optimizer='adam',\n",
    "              loss='sparse_categorical_crossentropy',\n",
    "              metrics=['accuracy'])"
   ]
  },
  {
   "cell_type": "code",
   "execution_count": null,
   "id": "bb0da1fb",
   "metadata": {},
   "outputs": [],
   "source": [
    "# Обучение\n",
    "model.fit(X_train, y_train, epochs=20, batch_size=32, validation_split=0.2)"
   ]
  },
  {
   "cell_type": "code",
   "execution_count": null,
   "id": "6486fc7f",
   "metadata": {},
   "outputs": [],
   "source": [
    "# Оценка модели\n",
    "y_pred = model.predict(X_test)\n",
    "y_pred_classes = tf.argmax(y_pred, axis=1)\n",
    "print(f'Accuracy: {accuracy_score(y_test, y_pred_classes)}')"
   ]
  }
 ],
 "metadata": {
  "jupytext": {
   "cell_metadata_filter": "-all",
   "main_language": "python",
   "notebook_metadata_filter": "-all"
  }
 },
 "nbformat": 4,
 "nbformat_minor": 5
}
