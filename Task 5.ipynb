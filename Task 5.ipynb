{
 "cells": [
  {
   "cell_type": "code",
   "execution_count": null,
   "id": "c4e2372e",
   "metadata": {},
   "outputs": [],
   "source": [
    "import pandas as pd\n",
    "from sklearn.preprocessing import StandardScaler\n",
    "from sklearn.model_selection import train_test_split\n",
    "from sklearn.linear_model import LinearRegression, Ridge\n",
    "from sklearn.metrics import mean_squared_error\n",
    "from sklearn.model_selection import GridSearchCV"
   ]
  },
  {
   "cell_type": "code",
   "execution_count": null,
   "id": "6d73c8f9",
   "metadata": {},
   "outputs": [],
   "source": [
    "url = 'https://archive.ics.uci.edu/ml/machine-learning-databases/wine-quality/winequality-red.csv'\n",
    "data = pd.read_csv(url, delimiter=';')"
   ]
  },
  {
   "cell_type": "code",
   "execution_count": null,
   "id": "a56698ae",
   "metadata": {},
   "outputs": [],
   "source": [
    "print(\"Missing values:\\n\", data.isnull().sum())"
   ]
  },
  {
   "cell_type": "code",
   "execution_count": null,
   "id": "cbc22ff6",
   "metadata": {},
   "outputs": [],
   "source": [
    "print(\"Data info:\\n\")\n",
    "data.info()"
   ]
  },
  {
   "cell_type": "code",
   "execution_count": null,
   "id": "34df082f",
   "metadata": {},
   "outputs": [],
   "source": [
    "data['total_acidity'] = data['fixed acidity'] + data['volatile acidity'] + data['citric acid']\n",
    "data['density_to_sulfur_ratio'] = data['density'] / (data['free sulfur dioxide'] + data['total sulfur dioxide'])"
   ]
  },
  {
   "cell_type": "code",
   "execution_count": null,
   "id": "72dfb711",
   "metadata": {},
   "outputs": [],
   "source": [
    "features = data.columns.drop('quality')\n",
    "scaler = StandardScaler()\n",
    "data[features] = scaler.fit_transform(data[features])"
   ]
  },
  {
   "cell_type": "code",
   "execution_count": null,
   "id": "e25e8a89",
   "metadata": {},
   "outputs": [],
   "source": [
    "X = data.drop('quality', axis=1)\n",
    "y = data['quality']"
   ]
  },
  {
   "cell_type": "code",
   "execution_count": null,
   "id": "b81e7f83",
   "metadata": {},
   "outputs": [],
   "source": [
    "X_train, X_temp, y_train, y_temp = train_test_split(X, y, test_size=0.3, random_state=42)\n",
    "X_val, X_test, y_val, y_test = train_test_split(X_temp, y_temp, test_size=0.5, random_state=42)"
   ]
  },
  {
   "cell_type": "code",
   "execution_count": null,
   "id": "4886ab09",
   "metadata": {},
   "outputs": [],
   "source": [
    "base_model = LinearRegression()\n",
    "base_model.fit(X_train, y_train)"
   ]
  },
  {
   "cell_type": "code",
   "execution_count": null,
   "id": "066cae5f",
   "metadata": {},
   "outputs": [],
   "source": [
    "y_val_pred = base_model.predict(X_val)\n",
    "base_mse = mean_squared_error(y_val, y_val_pred)\n",
    "print(\"Base model MSE:\", base_mse)"
   ]
  },
  {
   "cell_type": "code",
   "execution_count": null,
   "id": "5aca396f",
   "metadata": {},
   "outputs": [],
   "source": [
    "ridge = Ridge()\n",
    "parameters = {'alpha': [0.1, 1, 10, 100]}\n",
    "ridge_search = GridSearchCV(ridge, parameters, scoring='neg_mean_squared_error', cv=5)\n",
    "ridge_search.fit(X_train, y_train)"
   ]
  },
  {
   "cell_type": "code",
   "execution_count": null,
   "id": "4cf69350",
   "metadata": {},
   "outputs": [],
   "source": [
    "best_ridge_model = ridge_search.best_estimator_\n",
    "ridge_mse = mean_squared_error(y_val, best_ridge_model.predict(X_val))\n",
    "print(\"Best Ridge model parameters:\", ridge_search.best_params_)\n",
    "print(\"Ridge model MSE on validation set:\", ridge_mse)"
   ]
  },
  {
   "cell_type": "code",
   "execution_count": null,
   "id": "a6677764",
   "metadata": {},
   "outputs": [],
   "source": [
    "y_test_pred = best_ridge_model.predict(X_test)\n",
    "test_mse = mean_squared_error(y_test, y_test_pred)\n",
    "print(\"Test MSE:\", test_mse)"
   ]
  }
 ],
 "metadata": {
  "jupytext": {
   "cell_metadata_filter": "-all",
   "main_language": "python",
   "notebook_metadata_filter": "-all"
  }
 },
 "nbformat": 4,
 "nbformat_minor": 5
}
