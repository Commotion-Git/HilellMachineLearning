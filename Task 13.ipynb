{
 "cells": [
  {
   "cell_type": "code",
   "execution_count": null,
   "id": "ebed151e",
   "metadata": {},
   "outputs": [],
   "source": [
    "import pandas as pd\n",
    "from sklearn.feature_extraction.text import CountVectorizer, TfidfVectorizer\n",
    "from sklearn.model_selection import train_test_split\n",
    "from sklearn.naive_bayes import MultinomialNB\n",
    "from sklearn.metrics import accuracy_score, classification_report"
   ]
  },
  {
   "cell_type": "code",
   "execution_count": null,
   "id": "41947f37",
   "metadata": {},
   "outputs": [],
   "source": [
    "# Шаг 1: Загрузка данных\n",
    "df = pd.read_csv('IMDB Dataset.csv')\n",
    "df['sentiment'] = df['sentiment'].map({'positive': 1, 'negative': 0})"
   ]
  },
  {
   "cell_type": "code",
   "execution_count": null,
   "id": "3133473b",
   "metadata": {},
   "outputs": [],
   "source": [
    "# Признаки и целевые переменные\n",
    "X = df['review']\n",
    "y = df['sentiment']"
   ]
  },
  {
   "cell_type": "code",
   "execution_count": null,
   "id": "85321781",
   "metadata": {},
   "outputs": [],
   "source": [
    "# Разделение данных на тренировочные и тестовые наборы\n",
    "X_train, X_test, y_train, y_test = train_test_split(X, y, test_size=0.3, random_state=42)"
   ]
  },
  {
   "cell_type": "code",
   "execution_count": null,
   "id": "1a28674d",
   "metadata": {},
   "outputs": [],
   "source": [
    "# Создание векторизаторов\n",
    "vectorizer_bow = CountVectorizer()\n",
    "vectorizer_tfidf = TfidfVectorizer()"
   ]
  },
  {
   "cell_type": "code",
   "execution_count": null,
   "id": "1785f009",
   "metadata": {},
   "outputs": [],
   "source": [
    "# Преобразование текста в векторы BOW\n",
    "X_train_bow = vectorizer_bow.fit_transform(X_train)\n",
    "X_test_bow = vectorizer_bow.transform(X_test)"
   ]
  },
  {
   "cell_type": "code",
   "execution_count": null,
   "id": "c0eeee90",
   "metadata": {},
   "outputs": [],
   "source": [
    "# Преобразование текста в векторы TF-IDF\n",
    "X_train_tfidf = vectorizer_tfidf.fit_transform(X_train)\n",
    "X_test_tfidf = vectorizer_tfidf.transform(X_test)"
   ]
  },
  {
   "cell_type": "code",
   "execution_count": null,
   "id": "a8d3a46d",
   "metadata": {},
   "outputs": [],
   "source": [
    "# Обучение модели на BOW\n",
    "model_bow = MultinomialNB()\n",
    "model_bow.fit(X_train_bow, y_train)"
   ]
  },
  {
   "cell_type": "code",
   "execution_count": null,
   "id": "72b49531",
   "metadata": {},
   "outputs": [],
   "source": [
    "# Обучение модели на TF-IDF\n",
    "model_tfidf = MultinomialNB()\n",
    "model_tfidf.fit(X_train_tfidf, y_train)"
   ]
  },
  {
   "cell_type": "code",
   "execution_count": null,
   "id": "c6ea2d25",
   "metadata": {},
   "outputs": [],
   "source": [
    "# Оценка модели BOW\n",
    "y_pred_bow = model_bow.predict(X_test_bow)\n",
    "print(\"BOW Model Accuracy:\", accuracy_score(y_test, y_pred_bow))\n",
    "print(\"BOW Model Classification Report:\\n\", classification_report(y_test, y_pred_bow))"
   ]
  },
  {
   "cell_type": "code",
   "execution_count": null,
   "id": "9ba6ba32",
   "metadata": {},
   "outputs": [],
   "source": [
    "# Оценка модели TF-IDF\n",
    "y_pred_tfidf = model_tfidf.predict(X_test_tfidf)\n",
    "print(\"TF-IDF Model Accuracy:\", accuracy_score(y_test, y_pred_tfidf))\n",
    "print(\"TF-IDF Model Classification Report:\\n\", classification_report(y_test, y_pred_tfidf))"
   ]
  }
 ],
 "metadata": {
  "jupytext": {
   "cell_metadata_filter": "-all",
   "main_language": "python",
   "notebook_metadata_filter": "-all"
  }
 },
 "nbformat": 4,
 "nbformat_minor": 5
}
