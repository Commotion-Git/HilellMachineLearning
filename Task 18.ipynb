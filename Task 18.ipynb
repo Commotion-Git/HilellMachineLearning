{
 "cells": [
  {
   "cell_type": "code",
   "execution_count": null,
   "id": "bc63be78",
   "metadata": {
    "lines_to_next_cell": 1
   },
   "outputs": [],
   "source": [
    "import gym\n",
    "import torch\n",
    "import numpy as np\n",
    "from torch import nn\n",
    "from torch import optim"
   ]
  },
  {
   "cell_type": "code",
   "execution_count": null,
   "id": "890e1329",
   "metadata": {},
   "outputs": [],
   "source": [
    "class SimpleDQN(nn.Module):\n",
    "    def __init__(self, input_dim, output_dim):\n",
    "        super(SimpleDQN, self).__init__()\n",
    "        self.fc = nn.Linear(input_dim, output_dim)\n",
    "\n",
    "    def forward(self, x):\n",
    "        return self.fc(x)"
   ]
  },
  {
   "cell_type": "code",
   "execution_count": null,
   "id": "48578dd6",
   "metadata": {},
   "outputs": [],
   "source": [
    "env = gym.make('SpaceInvadersNoFrameskip-v4')"
   ]
  },
  {
   "cell_type": "code",
   "execution_count": null,
   "id": "b6e502f0",
   "metadata": {},
   "outputs": [],
   "source": [
    "input_dim = env.observation_space.shape[0]\n",
    "output_dim = env.action_space.n\n",
    "model = SimpleDQN(input_dim, output_dim)"
   ]
  },
  {
   "cell_type": "code",
   "execution_count": null,
   "id": "2fe6a819",
   "metadata": {},
   "outputs": [],
   "source": [
    "# Прогон\n",
    "obs = env.reset()\n",
    "done = False\n",
    "total_reward = 0"
   ]
  },
  {
   "cell_type": "code",
   "execution_count": null,
   "id": "6a3db070",
   "metadata": {},
   "outputs": [],
   "source": [
    "while not done:\n",
    "    obs_tensor = torch.tensor(obs, dtype=torch.float32).unsqueeze(0)\n",
    "    with torch.no_grad():\n",
    "        action_probs = model(obs_tensor)\n",
    "    action = torch.argmax(action_probs, dim=1).item()\n",
    "    obs, reward, done, _ = env.step(action)\n",
    "    total_reward += reward\n",
    "    env.render()"
   ]
  },
  {
   "cell_type": "code",
   "execution_count": null,
   "id": "3170f03c",
   "metadata": {},
   "outputs": [],
   "source": [
    "print(f\"Total Reward: {total_reward}\")"
   ]
  },
  {
   "cell_type": "code",
   "execution_count": null,
   "id": "44fd09ac",
   "metadata": {
    "lines_to_next_cell": 2
   },
   "outputs": [],
   "source": [
    "env.close()"
   ]
  }
 ],
 "metadata": {
  "jupytext": {
   "cell_metadata_filter": "-all",
   "main_language": "python",
   "notebook_metadata_filter": "-all"
  }
 },
 "nbformat": 4,
 "nbformat_minor": 5
}
