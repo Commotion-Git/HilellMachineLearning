{
 "cells": [
  {
   "cell_type": "code",
   "execution_count": null,
   "id": "3bfb2ccd",
   "metadata": {},
   "outputs": [],
   "source": [
    "import pandas as pd\n",
    "import matplotlib.pyplot as plt\n",
    "import seaborn as sns"
   ]
  },
  {
   "cell_type": "code",
   "execution_count": null,
   "id": "9033e2e6",
   "metadata": {},
   "outputs": [],
   "source": [
    "player_data = pd.read_csv('player_data.csv')\n",
    "players = pd.read_csv('Players.csv')\n",
    "seasons_stats = pd.read_csv('Seasons_Stats.csv')"
   ]
  },
  {
   "cell_type": "code",
   "execution_count": null,
   "id": "69866e2c",
   "metadata": {},
   "outputs": [],
   "source": [
    "print(player_data.head())\n",
    "print(player_data.info())"
   ]
  },
  {
   "cell_type": "code",
   "execution_count": null,
   "id": "6109aeb8",
   "metadata": {},
   "outputs": [],
   "source": [
    "print(players.head())\n",
    "print(players.info())"
   ]
  },
  {
   "cell_type": "code",
   "execution_count": null,
   "id": "597c9e0f",
   "metadata": {},
   "outputs": [],
   "source": [
    "print(seasons_stats.head())\n",
    "print(seasons_stats.info())"
   ]
  },
  {
   "cell_type": "code",
   "execution_count": null,
   "id": "ef35bc3d",
   "metadata": {},
   "outputs": [],
   "source": [
    "# Названия колонок к одному виду для объединения данных\n",
    "player_data.rename(columns={'player name': 'Player', 'height': 'Height_in', 'weight': 'Weight_lb'}, inplace=True)\n",
    "players.rename(columns={'height': 'Height_cm', 'weight': 'Weight_kg', 'born': 'Birth_Date', 'collage': 'College'}, inplace=True)"
   ]
  },
  {
   "cell_type": "code",
   "execution_count": null,
   "id": "0bbda18a",
   "metadata": {},
   "outputs": [],
   "source": [
    "# Объединение данных\n",
    "merged_data = pd.merge(player_data, players, on='Player', how='left')\n",
    "merged_data = pd.merge(merged_data, seasons_stats, on='Player', how='left')"
   ]
  },
  {
   "cell_type": "code",
   "execution_count": null,
   "id": "f1a48d7a",
   "metadata": {},
   "outputs": [],
   "source": [
    "print(merged_data.head())\n",
    "print(merged_data.info())"
   ]
  },
  {
   "cell_type": "code",
   "execution_count": null,
   "id": "3a3f7697",
   "metadata": {},
   "outputs": [],
   "source": [
    "# Резюме: График показывает распределение роста игроков, позволяя увидеть наиболее распространенные значения.\n",
    "plt.figure(figsize=(10, 6))\n",
    "sns.histplot(merged_data['Height_cm'].dropna(), kde=True)\n",
    "plt.title('Распределение роста игроков')\n",
    "plt.xlabel('Рост (см)')\n",
    "plt.ylabel('Количество')\n",
    "plt.show()"
   ]
  },
  {
   "cell_type": "code",
   "execution_count": null,
   "id": "39f2e952",
   "metadata": {},
   "outputs": [],
   "source": [
    "# Резюме: График показывает распределение веса игроков, позволяя увидеть диапазон веса в выборке.\n",
    "plt.figure(figsize=(10, 6))\n",
    "sns.histplot(merged_data['Weight_kg'].dropna(), kde=True)\n",
    "plt.title('Распределение веса игроков')\n",
    "plt.xlabel('Вес (кг)')\n",
    "plt.ylabel('Количество')\n",
    "plt.show()"
   ]
  },
  {
   "cell_type": "code",
   "execution_count": null,
   "id": "79cafcdb",
   "metadata": {},
   "outputs": [],
   "source": [
    "# Резюме: График показывает количество игроков в каждой команде.\n",
    "plt.figure(figsize=(12, 8))\n",
    "sns.countplot(data=merged_data, y='Tm', order=merged_data['Tm'].value_counts().index)\n",
    "plt.title('Распределение игроков по командам')\n",
    "plt.xlabel('Количество игроков')\n",
    "plt.ylabel('Команда')\n",
    "plt.show()"
   ]
  },
  {
   "cell_type": "code",
   "execution_count": null,
   "id": "b550b1d9",
   "metadata": {},
   "outputs": [],
   "source": [
    "# Резюме: График показывает распределение игроков по позициям.\n",
    "plt.figure(figsize=(10, 6))\n",
    "sns.countplot(data=merged_data, x='Pos')\n",
    "plt.title('Распределение игроков по позициям')\n",
    "plt.xlabel('Позиция')\n",
    "plt.ylabel('Количество')\n",
    "plt.show()"
   ]
  },
  {
   "cell_type": "code",
   "execution_count": null,
   "id": "4da99390",
   "metadata": {},
   "outputs": [],
   "source": [
    "# Резюме: График показывает возрастное распределение игроков.\n",
    "plt.figure(figsize=(10, 6))\n",
    "sns.histplot(merged_data['Age'].dropna(), kde=True)\n",
    "plt.title('Распределение возрастов игроков')\n",
    "plt.xlabel('Возраст')\n",
    "plt.ylabel('Количество')\n",
    "plt.show()"
   ]
  },
  {
   "cell_type": "code",
   "execution_count": null,
   "id": "1621ef91",
   "metadata": {},
   "outputs": [],
   "source": [
    "# Резюме: График показывает средний True Shooting % для каждой команды.\n",
    "plt.figure(figsize=(12, 8))\n",
    "team_ts = merged_data.groupby('Tm')['TS%'].mean().sort_values()\n",
    "team_ts.plot(kind='barh', figsize=(12, 8))\n",
    "plt.title('Средний True Shooting % по командам')\n",
    "plt.xlabel('True Shooting %')\n",
    "plt.ylabel('Команда')\n",
    "plt.show()"
   ]
  },
  {
   "cell_type": "code",
   "execution_count": null,
   "id": "b193c18f",
   "metadata": {},
   "outputs": [],
   "source": [
    "# Резюме: График показывает, сколько игроков начинали свою карьеру в различные годы.\n",
    "plt.figure(figsize=(12, 8))\n",
    "sns.histplot(merged_data['year_start'], bins=range(merged_data['year_start'].min(), merged_data['year_start'].max()+1))\n",
    "plt.title('Распределение игроков по годам начала карьеры')\n",
    "plt.xlabel('Год начала карьеры')\n",
    "plt.ylabel('Количество игроков')\n",
    "plt.show()"
   ]
  },
  {
   "cell_type": "code",
   "execution_count": null,
   "id": "32875c14",
   "metadata": {},
   "outputs": [],
   "source": [
    "# Резюме: График показывает распределение возраста игроков в зависимости от их игровой позиции.\n",
    "plt.figure(figsize=(12, 8))\n",
    "sns.boxplot(data=merged_data, x='Pos', y='Age')\n",
    "plt.title('Распределение игроков по возрасту и позиции')\n",
    "plt.xlabel('Позиция')\n",
    "plt.ylabel('Возраст')\n",
    "plt.show()"
   ]
  },
  {
   "cell_type": "code",
   "execution_count": null,
   "id": "2b28bcfa",
   "metadata": {},
   "outputs": [],
   "source": [
    "# Резюме: Диаграмма показывает долю игроков из топ-10 штатов США, где они родились.\n",
    "plt.figure(figsize=(12, 8))\n",
    "top_states = merged_data['birth_state'].value_counts().head(10)\n",
    "top_states.plot(kind='pie', autopct='%1.1f%%', startangle=90)\n",
    "plt.title('Доля игроков из разных штатов')\n",
    "plt.ylabel('')\n",
    "plt.show()"
   ]
  },
  {
   "cell_type": "code",
   "execution_count": null,
   "id": "7716425f",
   "metadata": {},
   "outputs": [],
   "source": [
    "# Возрастные группы\n",
    "bins = [0, 20, 25, 30, 35, 40, 45, 50, 100]\n",
    "labels = ['<20', '20-24', '25-29', '30-34', '35-39', '40-44', '45-49', '50+']\n",
    "merged_data['age_group'] = pd.cut(merged_data['Age'], bins=bins, labels=labels, right=False)"
   ]
  },
  {
   "cell_type": "code",
   "execution_count": null,
   "id": "3264629f",
   "metadata": {},
   "outputs": [],
   "source": [
    "# PER (средняя эффективность)\n",
    "avg_per_by_age = merged_data.groupby('age_group')['PER'].mean()"
   ]
  },
  {
   "cell_type": "markdown",
   "id": "ab83fc35",
   "metadata": {},
   "source": [
    " Этот график помогает понять, как меняется средняя эффективность игроков в зависимости от их возраста.\n",
    " Можно заметить, что средний PER может варьироваться в различных возрастных категориях, что может быть полезным для тренеров и скаутов при оценке игроков."
   ]
  },
  {
   "cell_type": "code",
   "execution_count": null,
   "id": "56c854ca",
   "metadata": {},
   "outputs": [],
   "source": [
    "plt.figure(figsize=(10, 6))\n",
    "sns.barplot(x=avg_per_by_age.index, y=avg_per_by_age.values, palette='viridis')\n",
    "plt.title('Средняя эффективность игроков по возрастным группам')\n",
    "plt.xlabel('Возрастная группа')\n",
    "plt.ylabel('Средний PER')\n",
    "plt.xticks(rotation=45)\n",
    "plt.show()"
   ]
  },
  {
   "cell_type": "markdown",
   "id": "5996da82",
   "metadata": {},
   "source": [
    "-------------------------------------\n",
    " ФИЧИ"
   ]
  },
  {
   "cell_type": "code",
   "execution_count": null,
   "id": "5ec108f9",
   "metadata": {},
   "outputs": [],
   "source": [
    "merged_data['BMI'] = merged_data['Weight_kg'] / (merged_data['Height_cm'] / 100) ** 2\n",
    "merged_data['career_start_age'] = merged_data['year_start'] - pd.to_datetime(merged_data['Birth_Date']).dt.year\n",
    "merged_data['years_in_league'] = merged_data['year_end'] - merged_data['year_start']\n",
    "merged_data['MP_per_game'] = merged_data['MP'] / merged_data['G']\n",
    "merged_data['games_played_percentage'] = merged_data['G'] / merged_data['GS']"
   ]
  }
 ],
 "metadata": {
  "jupytext": {
   "cell_metadata_filter": "-all",
   "main_language": "python",
   "notebook_metadata_filter": "-all"
  }
 },
 "nbformat": 4,
 "nbformat_minor": 5
}
