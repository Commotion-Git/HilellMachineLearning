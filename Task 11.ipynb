{
 "cells": [
  {
   "cell_type": "code",
   "execution_count": null,
   "id": "ca897d93",
   "metadata": {},
   "outputs": [],
   "source": [
    "import pandas as pd\n",
    "import numpy as np\n",
    "import matplotlib.pyplot as plt\n",
    "from sklearn.preprocessing import StandardScaler, OneHotEncoder\n",
    "from sklearn.compose import ColumnTransformer\n",
    "from sklearn.pipeline import Pipeline\n",
    "from sklearn.impute import SimpleImputer\n",
    "from sklearn.decomposition import PCA\n",
    "from sklearn.cluster import KMeans, AgglomerativeClustering\n",
    "from sklearn.metrics import silhouette_score"
   ]
  },
  {
   "cell_type": "code",
   "execution_count": null,
   "id": "5c46fc1d",
   "metadata": {},
   "outputs": [],
   "source": [
    "# 1. Завантаження та попередня обробка даних\n",
    "url = 'https://archive.ics.uci.edu/ml/machine-learning-databases/statlog/german/german.data'\n",
    "column_names = ['checking_account', 'duration_month', 'credit_history', 'purpose', 'credit_amount',\n",
    "                 'savings_account', 'employment', 'installment_rate', 'personal_status', 'other_debtors',\n",
    "                 'present_residence', 'property_magnitude', 'age', 'other_installment_plans',\n",
    "                 'housing', 'number_credits', 'job', 'people_liable', 'telephone', 'foreign_worker', 'class']\n",
    "data = pd.read_csv(url, header=None, names=column_names, delimiter=' ')"
   ]
  },
  {
   "cell_type": "code",
   "execution_count": null,
   "id": "0fd9f3a6",
   "metadata": {},
   "outputs": [],
   "source": [
    "# Замінюємо пропущені значення\n",
    "data.replace({'?': np.nan}, inplace=True)"
   ]
  },
  {
   "cell_type": "code",
   "execution_count": null,
   "id": "d20d1147",
   "metadata": {},
   "outputs": [],
   "source": [
    "# Окремо обробляємо категоріальні та числові дані\n",
    "categorical_features = data.select_dtypes(include=['object']).columns\n",
    "numerical_features = data.select_dtypes(exclude=['object']).columns"
   ]
  },
  {
   "cell_type": "code",
   "execution_count": null,
   "id": "1ac792c1",
   "metadata": {},
   "outputs": [],
   "source": [
    "# Пайплайн для числових даних\n",
    "numerical_pipeline = Pipeline([\n",
    "    ('imputer', SimpleImputer(strategy='median')),\n",
    "    ('scaler', StandardScaler())\n",
    "])"
   ]
  },
  {
   "cell_type": "code",
   "execution_count": null,
   "id": "4f6f7a11",
   "metadata": {},
   "outputs": [],
   "source": [
    "# Пайплайн для категоріальних даних\n",
    "categorical_pipeline = Pipeline([\n",
    "    ('imputer', SimpleImputer(strategy='most_frequent')),\n",
    "    ('onehot', OneHotEncoder(handle_unknown='ignore'))\n",
    "])"
   ]
  },
  {
   "cell_type": "code",
   "execution_count": null,
   "id": "e061f5ac",
   "metadata": {},
   "outputs": [],
   "source": [
    "# Загальний пайплайн\n",
    "preprocessor = ColumnTransformer([\n",
    "    ('num', numerical_pipeline, numerical_features),\n",
    "    ('cat', categorical_pipeline, categorical_features)\n",
    "])"
   ]
  },
  {
   "cell_type": "code",
   "execution_count": null,
   "id": "db282d04",
   "metadata": {
    "lines_to_next_cell": 1
   },
   "outputs": [],
   "source": [
    "X = preprocessor.fit_transform(data)"
   ]
  },
  {
   "cell_type": "code",
   "execution_count": null,
   "id": "25f5dad5",
   "metadata": {
    "lines_to_next_cell": 1
   },
   "outputs": [],
   "source": [
    "# 2. Побудова моделей кластеризації\n",
    "def perform_kmeans(X, n_clusters):\n",
    "    kmeans = KMeans(n_clusters=n_clusters, random_state=0)\n",
    "    labels = kmeans.fit_predict(X)\n",
    "    return labels, kmeans.inertia_"
   ]
  },
  {
   "cell_type": "code",
   "execution_count": null,
   "id": "2db9a7fd",
   "metadata": {
    "lines_to_next_cell": 1
   },
   "outputs": [],
   "source": [
    "def perform_agglomerative(X, n_clusters):\n",
    "    agglom = AgglomerativeClustering(n_clusters=n_clusters)\n",
    "    labels = agglom.fit_predict(X)\n",
    "    return labels"
   ]
  },
  {
   "cell_type": "code",
   "execution_count": null,
   "id": "4cf0390b",
   "metadata": {},
   "outputs": [],
   "source": [
    "# Вибір кількості кластерів\n",
    "k_range = range(2, 11)\n",
    "sse = []"
   ]
  },
  {
   "cell_type": "code",
   "execution_count": null,
   "id": "6498c72a",
   "metadata": {},
   "outputs": [],
   "source": [
    "for k in k_range:\n",
    "    _, inertia = perform_kmeans(X, k)\n",
    "    sse.append(inertia)"
   ]
  },
  {
   "cell_type": "code",
   "execution_count": null,
   "id": "96fce4fc",
   "metadata": {},
   "outputs": [],
   "source": [
    "# Побудова графіка для методу ліктя\n",
    "plt.figure(figsize=(12, 6))"
   ]
  },
  {
   "cell_type": "code",
   "execution_count": null,
   "id": "7dab16ab",
   "metadata": {},
   "outputs": [],
   "source": [
    "plt.subplot(1, 2, 1)\n",
    "plt.plot(k_range, sse, marker='o')\n",
    "plt.xlabel('Number of clusters')\n",
    "plt.ylabel('SSE')\n",
    "plt.title('Elbow Method for Optimal k')"
   ]
  },
  {
   "cell_type": "code",
   "execution_count": null,
   "id": "dd0dc586",
   "metadata": {},
   "outputs": [],
   "source": [
    "# 3. Зменшення розмірності з PCA\n",
    "pca = PCA(n_components=2)\n",
    "X_reduced = pca.fit_transform(X)"
   ]
  },
  {
   "cell_type": "code",
   "execution_count": null,
   "id": "cec2b230",
   "metadata": {},
   "outputs": [],
   "source": [
    "# Графік поясненої дисперсії\n",
    "explained_variance_ratio = pca.explained_variance_ratio_"
   ]
  },
  {
   "cell_type": "code",
   "execution_count": null,
   "id": "692107fa",
   "metadata": {},
   "outputs": [],
   "source": [
    "plt.subplot(1, 2, 2)\n",
    "plt.plot(range(1, len(explained_variance_ratio) + 1), explained_variance_ratio.cumsum(), marker='o')\n",
    "plt.xlabel('Number of Components')\n",
    "plt.ylabel('Cumulative Explained Variance')\n",
    "plt.title('PCA - Explained Variance')"
   ]
  },
  {
   "cell_type": "code",
   "execution_count": null,
   "id": "e9479283",
   "metadata": {},
   "outputs": [],
   "source": [
    "plt.tight_layout()\n",
    "plt.show()"
   ]
  },
  {
   "cell_type": "code",
   "execution_count": null,
   "id": "27a2c028",
   "metadata": {},
   "outputs": [],
   "source": [
    "# 4. Кластеризація на зменшеному датасеті\n",
    "optimal_k = 4  # Виберіть оптимальне значення на основі графіка ліктя"
   ]
  },
  {
   "cell_type": "code",
   "execution_count": null,
   "id": "a05c3000",
   "metadata": {},
   "outputs": [],
   "source": [
    "# Кластеризація з K-середніми на зменшеному датасеті\n",
    "labels_kmeans = perform_kmeans(X_reduced, optimal_k)[0]"
   ]
  },
  {
   "cell_type": "code",
   "execution_count": null,
   "id": "f98039c7",
   "metadata": {},
   "outputs": [],
   "source": [
    "# Кластеризація з ієрархічним методом на зменшеному датасеті\n",
    "labels_agglomerative = perform_agglomerative(X_reduced, optimal_k)"
   ]
  },
  {
   "cell_type": "code",
   "execution_count": null,
   "id": "c5329ba4",
   "metadata": {},
   "outputs": [],
   "source": [
    "# Оцінка кластеризацій\n",
    "silhouette_kmeans = silhouette_score(X_reduced, labels_kmeans)\n",
    "silhouette_agglomerative = silhouette_score(X_reduced, labels_agglomerative)"
   ]
  },
  {
   "cell_type": "code",
   "execution_count": null,
   "id": "9dc7d35b",
   "metadata": {},
   "outputs": [],
   "source": [
    "print(f\"Silhouette Score for K-means (Reduced Data): {silhouette_kmeans}\")\n",
    "print(f\"Silhouette Score for Agglomerative (Reduced Data): {silhouette_agglomerative}\")"
   ]
  },
  {
   "cell_type": "code",
   "execution_count": null,
   "id": "702181c3",
   "metadata": {},
   "outputs": [],
   "source": [
    "# 5. Кластеризація на оригінальному датасеті\n",
    "labels_kmeans_original = perform_kmeans(X, optimal_k)[0]\n",
    "labels_agglomerative_original = perform_agglomerative(X, optimal_k)"
   ]
  },
  {
   "cell_type": "code",
   "execution_count": null,
   "id": "942a659d",
   "metadata": {},
   "outputs": [],
   "source": [
    "# Оцінка кластеризацій на оригінальному датасеті\n",
    "silhouette_kmeans_original = silhouette_score(X, labels_kmeans_original)\n",
    "silhouette_agglomerative_original = silhouette_score(X, labels_agglomerative_original)"
   ]
  },
  {
   "cell_type": "code",
   "execution_count": null,
   "id": "b21a900c",
   "metadata": {},
   "outputs": [],
   "source": [
    "print(f\"Silhouette Score for K-means (Original Data): {silhouette_kmeans_original}\")\n",
    "print(f\"Silhouette Score for Agglomerative (Original Data): {silhouette_agglomerative_original}\")"
   ]
  }
 ],
 "metadata": {
  "jupytext": {
   "cell_metadata_filter": "-all",
   "main_language": "python",
   "notebook_metadata_filter": "-all"
  }
 },
 "nbformat": 4,
 "nbformat_minor": 5
}
