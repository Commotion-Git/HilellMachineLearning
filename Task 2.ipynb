{
 "cells": [
  {
   "cell_type": "code",
   "execution_count": null,
   "id": "0c029533",
   "metadata": {},
   "outputs": [],
   "source": [
    "import pandas as pd\n",
    "import numpy as np\n",
    "from io import StringIO"
   ]
  },
  {
   "cell_type": "code",
   "execution_count": null,
   "id": "3c7622ac",
   "metadata": {},
   "outputs": [],
   "source": [
    "# Исходные данные\n",
    "data = \"\"\"5.1,3.5,1.4,0.2,Iris-setosa\n",
    "4.9,3.0,1.4,0.2,Iris-setosa\n",
    "4.7,3.2,1.3,0.2,Iris-setosa\n",
    "4.6,3.1,1.5,0.2,Iris-setosa\n",
    "5.0,3.6,1.4,0.2,Iris-setosa\n",
    "5.4,3.9,1.7,0.4,Iris-setosa\n",
    "4.6,3.4,1.4,0.3,Iris-setosa\n",
    "5.0,3.4,1.5,0.2,Iris-setosa\n",
    "4.4,2.9,1.4,0.2,Iris-setosa\n",
    "4.9,3.1,1.5,0.1,Iris-setosa\n",
    "5.4,3.7,1.5,0.2,Iris-setosa\n",
    "4.8,3.4,1.6,0.2,Iris-setosa\n",
    "4.8,3.0,1.4,0.1,Iris-setosa\n",
    "4.3,3.0,1.1,0.1,Iris-setosa\n",
    "5.8,4.0,1.2,0.2,Iris-setosa\n",
    "5.7,4.4,1.5,0.4,Iris-setosa\n",
    "5.4,3.9,1.3,0.4,Iris-setosa\n",
    "5.1,3.5,1.4,0.3,Iris-setosa\n",
    "5.7,3.8,1.7,0.3,Iris-setosa\n",
    "5.1,3.8,1.5,0.3,Iris-setosa\n",
    "5.4,3.4,1.7,0.2,Iris-setosa\n",
    "5.1,3.7,1.5,0.4,Iris-setosa\n",
    "4.6,3.6,1.0,0.2,Iris-setosa\n",
    "5.1,3.3,1.7,0.5,Iris-setosa\n",
    "4.8,3.4,1.9,0.2,Iris-setosa\n",
    "5.0,3.0,1.6,0.2,Iris-setosa\n",
    "5.0,3.4,1.6,0.4,Iris-setosa\n",
    "5.2,3.5,1.5,0.2,Iris-setosa\n",
    "5.2,3.4,1.4,0.2,Iris-setosa\n",
    "4.7,3.2,1.6,0.2,Iris-setosa\n",
    "4.8,3.1,1.6,0.2,Iris-setosa\n",
    "5.4,3.4,1.5,0.4,Iris-setosa\n",
    "5.2,4.1,1.5,0.1,Iris-setosa\n",
    "5.5,4.2,1.4,0.2,Iris-setosa\n",
    "4.9,3.1,1.5,0.1,Iris-setosa\n",
    "5.0,3.2,1.2,0.2,Iris-setosa\n",
    "5.5,3.5,1.3,0.2,Iris-setosa\n",
    "4.9,3.1,1.5,0.1,Iris-setosa\n",
    "4.4,3.0,1.3,0.2,Iris-setosa\n",
    "5.1,3.4,1.5,0.2,Iris-setosa\n",
    "5.0,3.5,1.3,0.3,Iris-setosa\n",
    "4.5,2.3,1.3,0.3,Iris-setosa\n",
    "4.4,3.2,1.3,0.2,Iris-setosa\n",
    "5.0,3.5,1.6,0.6,Iris-setosa\n",
    "5.1,3.8,1.9,0.4,Iris-setosa\n",
    "4.8,3.0,1.4,0.3,Iris-setosa\n",
    "5.1,3.8,1.6,0.2,Iris-setosa\n",
    "4.6,3.2,1.4,0.2,Iris-setosa\n",
    "5.3,3.7,1.5,0.2,Iris-setosa\n",
    "5.0,3.3,1.4,0.2,Iris-setosa\n",
    "7.0,3.2,4.7,1.4,Iris-versicolor\n",
    "6.4,3.2,4.5,1.5,Iris-versicolor\n",
    "6.9,3.1,4.9,1.5,Iris-versicolor\n",
    "5.5,2.3,4.0,1.3,Iris-versicolor\n",
    "6.5,2.8,4.6,1.5,Iris-versicolor\n",
    "5.7,2.8,4.5,1.3,Iris-versicolor\n",
    "6.3,3.3,4.7,1.6,Iris-versicolor\n",
    "4.9,2.4,3.3,1.0,Iris-versicolor\n",
    "6.6,2.9,4.6,1.3,Iris-versicolor\n",
    "5.2,2.7,3.9,1.4,Iris-versicolor\n",
    "5.0,2.0,3.5,1.0,Iris-versicolor\n",
    "5.9,3.0,4.2,1.5,Iris-versicolor\n",
    "6.0,2.2,4.0,1.0,Iris-versicolor\n",
    "6.1,2.9,4.7,1.4,Iris-versicolor\n",
    "5.6,2.9,3.6,1.3,Iris-versicolor\n",
    "6.7,3.1,4.4,1.4,Iris-versicolor\n",
    "5.6,3.0,4.5,1.5,Iris-versicolor\n",
    "5.8,2.7,4.1,1.0,Iris-versicolor\n",
    "6.2,2.2,4.5,1.5,Iris-versicolor\n",
    "5.6,2.5,3.9,1.1,Iris-versicolor\n",
    "5.9,3.2,4.8,1.8,Iris-versicolor\n",
    "6.1,2.8,4.0,1.3,Iris-versicolor\n",
    "6.3,2.5,4.9,1.5,Iris-versicolor\n",
    "6.1,2.8,4.7,1.2,Iris-versicolor\n",
    "6.4,2.9,4.3,1.3,Iris-versicolor\n",
    "6.6,3.0,4.4,1.4,Iris-versicolor\n",
    "6.8,2.8,4.8,1.4,Iris-versicolor\n",
    "6.7,3.0,5.0,1.7,Iris-versicolor\n",
    "6.0,2.9,4.5,1.5,Iris-versicolor\n",
    "5.7,2.6,3.5,1.0,Iris-versicolor\n",
    "5.5,2.4,3.8,1.1,Iris-versicolor\n",
    "5.5,2.4,3.7,1.0,Iris-versicolor\n",
    "5.8,2.7,3.9,1.2,Iris-versicolor\n",
    "6.0,2.7,5.1,1.6,Iris-versicolor\n",
    "5.4,3.0,4.5,1.5,Iris-versicolor\n",
    "6.0,3.4,4.5,1.6,Iris-versicolor\n",
    "6.7,3.1,4.7,1.5,Iris-versicolor\n",
    "6.3,2.3,4.4,1.3,Iris-versicolor\n",
    "5.6,3.0,4.1,1.3,Iris-versicolor\n",
    "5.5,2.5,4.0,1.3,Iris-versicolor\n",
    "5.5,2.6,4.4,1.2,Iris-versicolor\n",
    "6.1,3.0,4.6,1.4,Iris-versicolor\n",
    "5.8,2.6,4.0,1.2,Iris-versicolor\n",
    "5.0,2.3,3.3,1.0,Iris-versicolor\n",
    "5.6,2.7,4.2,1.3,Iris-versicolor\n",
    "5.7,3.0,4.2,1.2,Iris-versicolor\n",
    "5.7,2.9,4.2,1.3,Iris-versicolor\n",
    "6.2,2.9,4.3,1.3,Iris-versicolor\n",
    "5.1,2.5,3.0,1.1,Iris-versicolor\n",
    "5.7,2.8,4.1,1.3,Iris-versicolor\n",
    "6.3,3.3,6.0,2.5,Iris-virginica\n",
    "5.8,2.7,5.1,1.9,Iris-virginica\n",
    "7.1,3.0,5.9,2.1,Iris-virginica\n",
    "6.3,2.9,5.6,1.8,Iris-virginica\n",
    "6.5,3.0,5.8,2.2,Iris-virginica\n",
    "7.6,3.0,6.6,2.1,Iris-virginica\n",
    "4.9,2.5,4.5,1.7,Iris-virginica\n",
    "7.3,2.9,6.3,1.8,Iris-virginica\n",
    "6.7,2.5,5.8,1.8,Iris-virginica\n",
    "7.2,3.6,6.1,2.5,Iris-virginica\n",
    "6.5,3.2,5.1,2.0,Iris-virginica\n",
    "6.4,2.7,5.3,1.9,Iris-virginica\n",
    "6.8,3.0,5.5,2.1,Iris-virginica\n",
    "5.7,2.5,5.0,2.0,Iris-virginica\n",
    "5.8,2.8,5.1,2.4,Iris-virginica\n",
    "6.4,3.2,5.3,2.3,Iris-virginica\n",
    "6.5,3.0,5.5,1.8,Iris-virginica\n",
    "7.7,3.8,6.7,2.2,Iris-virginica\n",
    "7.7,2.6,6.9,2.3,Iris-virginica\n",
    "6.0,2.2,5.0,1.5,Iris-virginica\n",
    "6.9,3.2,5.7,2.3,Iris-virginica\n",
    "5.6,2.8,4.9,2.0,Iris-virginica\n",
    "7.7,2.8,6.7,2.0,Iris-virginica\n",
    "6.3,2.7,4.9,1.8,Iris-virginica\n",
    "6.7,3.3,5.7,2.1,Iris-virginica\n",
    "7.2,3.2,6.0,1.8,Iris-virginica\n",
    "6.2,2.8,4.8,1.8,Iris-virginica\n",
    "6.1,3.0,4.9,1.8,Iris-virginica\n",
    "6.4,2.8,5.6,2.1,Iris-virginica\n",
    "7.2,3.0,5.8,1.6,Iris-virginica\n",
    "7.4,2.8,6.1,1.9,Iris-virginica\n",
    "7.9,3.8,6.4,2.0,Iris-virginica\n",
    "6.4,2.8,5.6,2.2,Iris-virginica\n",
    "6.3,2.8,5.1,1.5,Iris-virginica\n",
    "6.1,2.6,5.6,1.4,Iris-virginica\n",
    "7.7,3.0,6.1,2.3,Iris-virginica\n",
    "6.3,3.4,5.6,2.4,Iris-virginica\n",
    "6.4,3.1,5.5,1.8,Iris-virginica\n",
    "6.0,3.0,4.8,1.8,Iris-virginica\n",
    "6.9,3.1,5.4,2.1,Iris-virginica\n",
    "6.7,3.1,5.6,2.4,Iris-virginica\n",
    "6.9,3.1,5.1,2.3,Iris-virginica\n",
    "5.8,2.7,5.1,1.9,Iris-virginica\n",
    "6.8,3.2,5.9,2.3,Iris-virginica\n",
    "6.7,3.3,5.7,2.5,Iris-virginica\n",
    "6.7,3.0,5.2,2.3,Iris-virginica\n",
    "6.3,2.5,5.0,1.9,Iris-virginica\n",
    "6.5,3.0,5.2,2.0,Iris-virginica\n",
    "6.2,3.4,5.4,2.3,Iris-virginica\n",
    "5.9,3.0,5.1,1.8,Iris-virginica\"\"\""
   ]
  },
  {
   "cell_type": "code",
   "execution_count": null,
   "id": "f0ab65eb",
   "metadata": {},
   "outputs": [],
   "source": [
    "# Преобразование данных в DataFrame\n",
    "df = pd.read_csv(StringIO(data), header=None)"
   ]
  },
  {
   "cell_type": "code",
   "execution_count": null,
   "id": "e7e01a05",
   "metadata": {},
   "outputs": [],
   "source": [
    "# Удаляем последнюю колонку\n",
    "target = df.iloc[:, -1]\n",
    "df = df.iloc[:, :-1]"
   ]
  },
  {
   "cell_type": "code",
   "execution_count": null,
   "id": "a66320cb",
   "metadata": {},
   "outputs": [],
   "source": [
    "# Преобразуем в 2D массив\n",
    "data_array = df.values"
   ]
  },
  {
   "cell_type": "code",
   "execution_count": null,
   "id": "0a45aa2a",
   "metadata": {},
   "outputs": [],
   "source": [
    "# Порсчитаем mean, median, standard deviation для 1-й колонки\n",
    "mean_col1 = np.mean(data_array[:, 0])\n",
    "median_col1 = np.median(data_array[:, 0])\n",
    "std_col1 = np.std(data_array[:, 0])"
   ]
  },
  {
   "cell_type": "code",
   "execution_count": null,
   "id": "8a4c075f",
   "metadata": {},
   "outputs": [],
   "source": [
    "print(f\"Mean of column 1: {mean_col1}\")\n",
    "print(f\"Median of column 1: {median_col1}\")\n",
    "print(f\"Standard Deviation of column 1: {std_col1}\")"
   ]
  },
  {
   "cell_type": "code",
   "execution_count": null,
   "id": "a8463d8a",
   "metadata": {},
   "outputs": [],
   "source": [
    "# Вставим 20 значений np.nan на случайные позиции в массиве\n",
    "random_indices = np.random.choice(data_array.size, 20, replace=False)\n",
    "data_array.ravel()[random_indices] = np.nan"
   ]
  },
  {
   "cell_type": "code",
   "execution_count": null,
   "id": "bc25ff2f",
   "metadata": {},
   "outputs": [],
   "source": [
    "# Найдём позиции вставленных значений np.nan в 1-й колонке\n",
    "nan_positions_col1 = np.where(np.isnan(data_array[:, 0]))[0]"
   ]
  },
  {
   "cell_type": "code",
   "execution_count": null,
   "id": "c44dda8c",
   "metadata": {},
   "outputs": [],
   "source": [
    "print(f\"Positions of NaN values in column 1: {nan_positions_col1}\")"
   ]
  },
  {
   "cell_type": "code",
   "execution_count": null,
   "id": "76572757",
   "metadata": {},
   "outputs": [],
   "source": [
    "# Отфильтруем массив за условием: значения в 3-й колонке > 1.5 и значения в 1-й колонке < 5.0\n",
    "filtered_array = data_array[(data_array[:, 2] > 1.5) & (data_array[:, 0] < 5.0)]"
   ]
  },
  {
   "cell_type": "code",
   "execution_count": null,
   "id": "1ded64db",
   "metadata": {},
   "outputs": [],
   "source": [
    "# Заменим все значения np.nan на 0\n",
    "data_array = np.nan_to_num(data_array)"
   ]
  },
  {
   "cell_type": "code",
   "execution_count": null,
   "id": "00a6e3a7",
   "metadata": {},
   "outputs": [],
   "source": [
    "# Подсчитаем все уникальные значения в массиве и выведем их вместе с количеством\n",
    "unique_values, counts = np.unique(data_array, return_counts=True)\n",
    "unique_counts = dict(zip(unique_values, counts))"
   ]
  },
  {
   "cell_type": "code",
   "execution_count": null,
   "id": "75d75ed8",
   "metadata": {},
   "outputs": [],
   "source": [
    "print(f\"Unique values and counts: {unique_counts}\")"
   ]
  },
  {
   "cell_type": "code",
   "execution_count": null,
   "id": "4b1fafa5",
   "metadata": {},
   "outputs": [],
   "source": [
    "# Разобьём массив по вертикали на 2 равные части\n",
    "split_array1, split_array2 = np.array_split(data_array, 2, axis=1)"
   ]
  },
  {
   "cell_type": "code",
   "execution_count": null,
   "id": "83abb306",
   "metadata": {},
   "outputs": [],
   "source": [
    "# Отсортируем оба массива по 1-й колонке: 1-й по возрастанию, 2-й по убыванию\n",
    "split_array1 = split_array1[np.argsort(split_array1[:, 0])]\n",
    "split_array2 = split_array2[np.argsort(split_array2[:, 0])[::-1]]"
   ]
  },
  {
   "cell_type": "code",
   "execution_count": null,
   "id": "2d96dc1c",
   "metadata": {},
   "outputs": [],
   "source": [
    "# Соберём оба массива в одно целое\n",
    "combined_array = np.hstack((split_array1, split_array2))"
   ]
  },
  {
   "cell_type": "code",
   "execution_count": null,
   "id": "48ab81ab",
   "metadata": {},
   "outputs": [],
   "source": [
    "# Найдём наиболее часто повторяющееся значение в массиве\n",
    "most_frequent_value = unique_values[np.argmax(counts)]"
   ]
  },
  {
   "cell_type": "code",
   "execution_count": null,
   "id": "0e547939",
   "metadata": {
    "lines_to_next_cell": 1
   },
   "outputs": [],
   "source": [
    "print(f\"Most frequent value: {most_frequent_value}\")"
   ]
  },
  {
   "cell_type": "code",
   "execution_count": null,
   "id": "48e2b818",
   "metadata": {
    "lines_to_next_cell": 1
   },
   "outputs": [],
   "source": [
    "# Напишем функцию, которая умножает все значения в колонке, которые меньше среднего значения в этой колонке, на 2, и делит остальные значения на 4.\n",
    "def transform_column(column):\n",
    "    mean_value = np.mean(column)\n",
    "    column = np.where(column < mean_value, column * 2, column / 4)\n",
    "    return column"
   ]
  },
  {
   "cell_type": "code",
   "execution_count": null,
   "id": "553e6b01",
   "metadata": {},
   "outputs": [],
   "source": [
    "# Применим полученную функцию к 3-й колонке\n",
    "combined_array[:, 2] = transform_column(combined_array[:, 2])"
   ]
  },
  {
   "cell_type": "code",
   "execution_count": null,
   "id": "8f6a0b37",
   "metadata": {},
   "outputs": [],
   "source": [
    "print(combined_array)"
   ]
  }
 ],
 "metadata": {
  "jupytext": {
   "cell_metadata_filter": "-all",
   "main_language": "python",
   "notebook_metadata_filter": "-all"
  }
 },
 "nbformat": 4,
 "nbformat_minor": 5
}
