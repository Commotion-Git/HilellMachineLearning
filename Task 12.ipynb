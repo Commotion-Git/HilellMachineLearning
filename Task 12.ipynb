{
 "cells": [
  {
   "cell_type": "code",
   "execution_count": null,
   "id": "0032566f",
   "metadata": {},
   "outputs": [],
   "source": [
    "import pandas as pd\n",
    "from darts import TimeSeries\n",
    "from darts.models import ExponentialSmoothing\n",
    "from darts.utils.timeseries_generation import datetime_index\n",
    "import matplotlib.pyplot as plt"
   ]
  },
  {
   "cell_type": "code",
   "execution_count": null,
   "id": "7e80e58b",
   "metadata": {},
   "outputs": [],
   "source": [
    "# Завантаження даних\n",
    "df = pd.read_csv('T10Y2Y.csv', parse_dates=['DATE'], index_col='DATE')"
   ]
  },
  {
   "cell_type": "code",
   "execution_count": null,
   "id": "4cc204fc",
   "metadata": {},
   "outputs": [],
   "source": [
    "# Перетворення даних у формат TimeSeries\n",
    "series = TimeSeries.from_dataframe(df, value_cols='T10Y2Y')"
   ]
  },
  {
   "cell_type": "code",
   "execution_count": null,
   "id": "a8642cd6",
   "metadata": {},
   "outputs": [],
   "source": [
    "# Розбиття на тренувальний і тестовий набори\n",
    "train, test = series.split_after(pd.Timestamp('2023-01-01'))"
   ]
  },
  {
   "cell_type": "code",
   "execution_count": null,
   "id": "3650bf99",
   "metadata": {},
   "outputs": [],
   "source": [
    "# Побудова моделі\n",
    "model = ExponentialSmoothing()\n",
    "model.fit(train)\n",
    "forecast = model.predict(len(test))"
   ]
  },
  {
   "cell_type": "code",
   "execution_count": null,
   "id": "eab57f7a",
   "metadata": {},
   "outputs": [],
   "source": [
    "# Візуалізація результатів\n",
    "plt.figure(figsize=(10, 6))\n",
    "series.plot(label='Оригінальні дані')\n",
    "forecast.plot(label='Прогноз')\n",
    "plt.legend()\n",
    "plt.show()"
   ]
  },
  {
   "cell_type": "code",
   "execution_count": null,
   "id": "6117c4e0",
   "metadata": {},
   "outputs": [],
   "source": []
  }
 ],
 "metadata": {
  "jupytext": {
   "cell_metadata_filter": "-all",
   "main_language": "python",
   "notebook_metadata_filter": "-all"
  }
 },
 "nbformat": 4,
 "nbformat_minor": 5
}
